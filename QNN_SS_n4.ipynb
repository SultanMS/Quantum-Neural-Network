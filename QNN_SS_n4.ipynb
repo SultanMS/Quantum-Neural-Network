{
 "cells": [
  {
   "cell_type": "code",
   "execution_count": 1,
   "id": "2c466b0d-7fbb-4d95-ad69-d5b0222d292f",
   "metadata": {},
   "outputs": [],
   "source": [
    "from sklearn import model_selection, datasets, svm\n",
    "from qiskit import QuantumCircuit, Aer, IBMQ, QuantumRegister, ClassicalRegister\n",
    "import qiskit\n",
    "import numpy as np\n",
    "import copy\n",
    "import matplotlib.pyplot as plt1\n",
    "import matplotlib.pyplot as plt2\n"
   ]
  },
  {
   "cell_type": "code",
   "execution_count": 2,
   "id": "3efa5da0-57d3-4893-9ea9-d96258681609",
   "metadata": {},
   "outputs": [],
   "source": [
    "iris = datasets.load_iris()\n",
    "X = iris.data[0:100]  # we only take the first two features.\n",
    "Y = iris.target[0:100]\n",
    "\n",
    "X_train, X_test, Y_train, Y_test, = model_selection.train_test_split(X, Y, test_size=0.33, random_state=42)\n"
   ]
  },
  {
   "cell_type": "code",
   "execution_count": 3,
   "id": "6d1d251c-ae41-4b27-9ad3-5ad3b4e0e0f6",
   "metadata": {},
   "outputs": [
    {
     "name": "stdout",
     "output_type": "stream",
     "text": [
      "[0 1 0 1 1 0 0 0 0 0 1 0 0 1 0 1 0 0 0 0 0 0 1 0 1 0 1 1 1 1 0 1 1 0 1 1 1\n",
      " 1 0 1 0 1 1 1 0 1 1 1 1 0 0 0 1 0 0 0 1 1 1 1 1 0 1 1 0 1 1]\n"
     ]
    }
   ],
   "source": [
    "print(Y_train)"
   ]
  },
  {
   "cell_type": "code",
   "execution_count": 4,
   "id": "c5ea40f8-5265-4128-a1ac-ca0fab47a1fc",
   "metadata": {},
   "outputs": [
    {
     "name": "stdout",
     "output_type": "stream",
     "text": [
      "[5.2 3.4 1.4 0.2]\n",
      "67 67 33 33\n",
      "[[6.  2.7 5.1 1.6]\n",
      " [5.5 2.3 4.  1.3]\n",
      " [5.9 3.2 4.8 1.8]\n",
      " [4.8 3.  1.4 0.3]\n",
      " [5.1 3.8 1.9 0.4]\n",
      " [5.1 3.4 1.5 0.2]\n",
      " [4.6 3.6 1.  0.2]\n",
      " [5.5 2.4 3.8 1.1]\n",
      " [5.4 3.7 1.5 0.2]\n",
      " [5.1 3.5 1.4 0.2]\n",
      " [5.7 3.8 1.7 0.3]\n",
      " [4.8 3.1 1.6 0.2]\n",
      " [6.1 2.8 4.7 1.2]\n",
      " [5.5 4.2 1.4 0.2]\n",
      " [5.5 2.6 4.4 1.2]\n",
      " [5.  3.6 1.4 0.2]\n",
      " [6.8 2.8 4.8 1.4]\n",
      " [6.7 3.  5.  1.7]\n",
      " [4.8 3.  1.4 0.1]\n",
      " [5.4 3.4 1.5 0.4]\n",
      " [5.7 2.8 4.5 1.3]\n",
      " [5.6 3.  4.1 1.3]\n",
      " [5.  3.4 1.6 0.4]\n",
      " [4.4 3.2 1.3 0.2]\n",
      " [5.6 2.5 3.9 1.1]\n",
      " [5.7 4.4 1.5 0.4]\n",
      " [5.  3.5 1.3 0.3]\n",
      " [5.7 2.9 4.2 1.3]\n",
      " [4.9 3.1 1.5 0.1]\n",
      " [6.3 2.5 4.9 1.5]\n",
      " [4.8 3.4 1.6 0.2]\n",
      " [4.6 3.2 1.4 0.2]\n",
      " [6.  3.4 4.5 1.6]]\n"
     ]
    }
   ],
   "source": [
    "print(X_train[0])\n",
    "print (len(Y_train), len(X_train), len(X_test), len(Y_test))\n",
    "\n",
    "print (X_test)\n"
   ]
  },
  {
   "cell_type": "code",
   "execution_count": 5,
   "id": "96342abd-dbe5-4ed4-8cd5-d86e8c206bff",
   "metadata": {},
   "outputs": [
    {
     "name": "stdout",
     "output_type": "stream",
     "text": [
      "[[6.0, 2.7, 5.1, 1.6], [5.5, 2.3, 4.0, 1.3], [5.9, 3.2, 4.8, 1.8], [4.8, 3.0, 1.4, 0.3], [5.1, 3.8, 1.9, 0.4], [5.1, 3.4, 1.5, 0.2], [4.6, 3.6, 1.0, 0.2], [5.5, 2.4, 3.8, 1.1], [5.4, 3.7, 1.5, 0.2], [5.1, 3.5, 1.4, 0.2], [5.7, 3.8, 1.7, 0.3], [4.8, 3.1, 1.6, 0.2], [6.1, 2.8, 4.7, 1.2], [5.5, 4.2, 1.4, 0.2], [5.5, 2.6, 4.4, 1.2], [5.0, 3.6, 1.4, 0.2], [6.8, 2.8, 4.8, 1.4], [6.7, 3.0, 5.0, 1.7], [4.8, 3.0, 1.4, 0.1], [5.4, 3.4, 1.5, 0.4], [5.7, 2.8, 4.5, 1.3], [5.6, 3.0, 4.1, 1.3], [5.0, 3.4, 1.6, 0.4], [4.4, 3.2, 1.3, 0.2], [5.6, 2.5, 3.9, 1.1], [5.7, 4.4, 1.5, 0.4], [5.0, 3.5, 1.3, 0.3], [5.7, 2.9, 4.2, 1.3], [4.9, 3.1, 1.5, 0.1], [6.3, 2.5, 4.9, 1.5], [4.8, 3.4, 1.6, 0.2], [4.6, 3.2, 1.4, 0.2], [6.0, 3.4, 4.5, 1.6]]\n"
     ]
    }
   ],
   "source": [
    "N = 4\n",
    "myX_train = [[0 for i in range(N)] for j in range(len(X_train))]\n",
    "myX_test = [[0 for i in range(N)] for j in range(len(X_test))]\n",
    "\n",
    "\n",
    "\n",
    "# Correct the size of the features basaed on N\n",
    "\n",
    "for i in range(len(X_train)): \n",
    "    for j in range(N):\n",
    "        if (j<len(X_train[i])):\n",
    "            myX_train[i][j]=X_train[i][j] \n",
    "        else:\n",
    "            myX_train[i][j] = 1.0\n",
    "            \n",
    "for i in range(len(X_test)): \n",
    "    for j in range(N):\n",
    "        if (j<len(X_test[i])): \n",
    "            myX_test[i][j]=X_test[i][j]\n",
    "        else:\n",
    "            myX_test[i][j] = 1.0\n",
    "            \n",
    "\n",
    "print(myX_test)"
   ]
  },
  {
   "cell_type": "code",
   "execution_count": 6,
   "id": "843c5b47-3f55-4d3c-bf86-28f420edb699",
   "metadata": {},
   "outputs": [],
   "source": [
    "def feature_map(X):\n",
    "    q = QuantumRegister(N)\n",
    "    c = ClassicalRegister(1)\n",
    "    qc = QuantumCircuit(q, c)\n",
    "    for i, x in enumerate(X):\n",
    "        qc.rx(x, i)\n",
    "    return qc, c     \n"
   ]
  },
  {
   "cell_type": "code",
   "execution_count": 7,
   "id": "56a1f28f-81cf-4a35-96e9-8d40cf5ef610",
   "metadata": {},
   "outputs": [],
   "source": [
    "def variational_circuit(qc, theta):\n",
    "    for i in range(N-1):\n",
    "        qc.cnot(i, i+1)\n",
    "    qc.cnot(N-1, 0)\n",
    "    for i in range(N):\n",
    "        qc.ry(theta[i], i)\n",
    "    return qc    "
   ]
  },
  {
   "cell_type": "code",
   "execution_count": 8,
   "id": "856bd9a1-3521-4603-be37-7c08e9af1703",
   "metadata": {},
   "outputs": [
    {
     "data": {
      "image/png": "[encoded data removed]",
      "text/plain": [
       "<Figure size 520.978x325.08 with 1 Axes>"
      ]
     },
     "execution_count": 8,
     "metadata": {},
     "output_type": "execute_result"
    }
   ],
   "source": [
    "# SSultan Test  \n",
    "\n",
    "X = [5.2, 3.4, 1.4,0.2]\n",
    "theta = [0.785]*N\n",
    "myqc, myc = feature_map(X) \n",
    "myqc = variational_circuit(myqc, theta)\n",
    "myqc.measure(0, myc)\n",
    "myqc.draw()\n"
   ]
  },
  {
   "cell_type": "code",
   "execution_count": 9,
   "id": "ffd98930-470e-4111-a18d-a7eb38ad5611",
   "metadata": {},
   "outputs": [],
   "source": [
    "def quantum_nn(X, theta, simulator=True):\n",
    "    qc, c = feature_map(X)\n",
    "    qc = variational_circuit(qc, theta)\n",
    "    qc.measure(0, c)\n",
    "\n",
    "    shots= 10000\n",
    "    backend = Aer.get_backend('qasm_simulator')\n",
    "    if simulator == False:\n",
    "        shots = 1000\n",
    "        provider= IBMQ.load_account()\n",
    "        backend= provider.get_backend('ibmq_bogota')\n",
    "    \n",
    "    job = qiskit.execute(qc, backend, shots=shots)\n",
    "    result = job.result()\n",
    "    counts = result.get_counts(qc)\n",
    "           \n",
    "    return counts['1']/shots\n",
    "   "
   ]
  },
  {
   "cell_type": "code",
   "execution_count": 10,
   "id": "436aa989-6a10-4a7d-8309-1f95affe6aaa",
   "metadata": {},
   "outputs": [],
   "source": [
    "def loss(prediction, target):\n",
    "    return (prediction - target)**2"
   ]
  },
  {
   "cell_type": "code",
   "execution_count": 11,
   "id": "a85873a3-4b0b-4384-8a27-e293bd833e44",
   "metadata": {},
   "outputs": [],
   "source": [
    "def gradient (X,Y,theta):\n",
    "    delta = 0.01\n",
    "    grad = []\n",
    "    for i in range(len(theta)):\n",
    "        dtheta = copy.copy(theta)\n",
    "        dtheta[i] += delta\n",
    "        \n",
    "        pred1 =quantum_nn(X,dtheta)\n",
    "        pred2 =quantum_nn(X,theta)\n",
    "        \n",
    "        grad.append((loss(pred1, Y) - loss(pred2, Y)) / delta)\n",
    "                    \n",
    "    return np.array(grad)             "
   ]
  },
  {
   "cell_type": "code",
   "execution_count": 12,
   "id": "17c3adc6-11f2-4350-907e-a500c6cc6a3d",
   "metadata": {},
   "outputs": [],
   "source": [
    "def accuracy(X, Y, theta):\n",
    "    counter = 0\n",
    "    for i in range(len(X)):\n",
    "        X_i = X[i]\n",
    "        Y_i = Y[i]\n",
    "        prediction = quantum_nn(X_i, theta)\n",
    "        #pint(X_i, Y_i, prediction)\n",
    "        if prediction < 0.5 and Y_i == 0:\n",
    "            counter +=1\n",
    "        elif prediction >= 0.5 and Y_i == 1 :  \n",
    "            counter +=1\n",
    "    return  100.0*counter/len(Y)      "
   ]
  },
  {
   "cell_type": "code",
   "execution_count": 13,
   "id": "5ec7e799-e18c-4f0d-bfc2-4e3232bcc354",
   "metadata": {},
   "outputs": [
    {
     "name": "stdout",
     "output_type": "stream",
     "text": [
      "  Epoch\t  Loss\t  Accuracy\n",
      "\t0\t  0.291\t  13.4\n",
      "\t1\t  0.289\t  14.9\n",
      "\t2\t  0.268\t  20.9\n",
      "\t3\t  0.246\t  73.1\n",
      "\t4\t  0.225\t  77.6\n",
      "\t5\t  0.236\t  82.1\n",
      "\t6\t  0.235\t  86.6\n",
      "\t7\t  0.217\t  80.6\n",
      "\t8\t  0.220\t  82.1\n",
      "\t9\t  0.206\t  80.6\n"
     ]
    }
   ],
   "source": [
    "# main program \n",
    "\n",
    "eta = 0.05\n",
    "loss_list = []\n",
    "acc_list = []\n",
    "theta = np.ones(N)\n",
    "print('  Epoch\\t  Loss\\t  Accuracy')\n",
    "\n",
    "\n",
    "for k in range(10):\n",
    "    loss_tmp = []\n",
    "    \n",
    "    for i in range(len(myX_train)):\n",
    "        X_i = myX_train[i]\n",
    "        Y_i = Y_train[i]\n",
    "        prediction = quantum_nn(X_i, theta)\n",
    "        loss_tmp.append(loss(prediction,Y_i))\n",
    "        theta =theta - eta * gradient(X_i, Y_i, theta)\n",
    "    loss_list.append(np.mean(loss_tmp))  \n",
    "    acc = accuracy(myX_train, Y_train, theta)\n",
    "    acc_list.append(acc)\n",
    "    print(f'\\t{k}\\t  {loss_list[-1]:.3f}\\t  {acc:.1f}')"
   ]
  },
  {
   "cell_type": "code",
   "execution_count": 14,
   "id": "2ef39f6e-9469-431f-9786-ddc9bdc494a2",
   "metadata": {},
   "outputs": [
    {
     "data": {
      "image/png": "[encoded data removed]",
      "text/plain": [
       "<Figure size 432x288 with 1 Axes>"
      ]
     },
     "metadata": {
      "needs_background": "light"
     },
     "output_type": "display_data"
    }
   ],
   "source": [
    "plt1.plot(loss_list)\n",
    "plt1.xlabel('Epoch')\n",
    "plt1.ylabel('Loss')\n",
    "plt1.show()"
   ]
  },
  {
   "cell_type": "code",
   "execution_count": 15,
   "id": "0a0f9f9a-d8dd-48e8-8db7-3808535975b9",
   "metadata": {},
   "outputs": [
    {
     "data": {
      "image/png": "[encoded data removed]",
      "text/plain": [
       "<Figure size 432x288 with 1 Axes>"
      ]
     },
     "metadata": {
      "needs_background": "light"
     },
     "output_type": "display_data"
    }
   ],
   "source": [
    "plt2.plot(acc_list)\n",
    "plt2.xlabel('Epoch')\n",
    "plt2.ylabel('Accuracy (%)')\n",
    "plt2.show()\n"
   ]
  },
  {
   "cell_type": "code",
   "execution_count": 16,
   "id": "6d299b37-042c-4da6-8fe1-137ba5a1dd67",
   "metadata": {},
   "outputs": [
    {
     "data": {
      "text/plain": [
       "78.78787878787878"
      ]
     },
     "execution_count": 16,
     "metadata": {},
     "output_type": "execute_result"
    }
   ],
   "source": [
    "accuracy(myX_test, Y_test, theta)"
   ]
  },
  {
   "cell_type": "code",
   "execution_count": 17,
   "id": "647581dd-3eb1-42c8-80cd-dc2bd5f4f282",
   "metadata": {},
   "outputs": [],
   "source": [
    "X_sample = myX_test[6]"
   ]
  },
  {
   "cell_type": "code",
   "execution_count": null,
   "id": "b5ffcb9a-fe45-4f8a-a677-834e9de31556",
   "metadata": {},
   "outputs": [],
   "source": [
    "print('The predection of the test sample on a simulator:')\n",
    "quantum_nn(X_sample, theta)"
   ]
  },
  {
   "cell_type": "code",
   "execution_count": null,
   "id": "0b20b225-e065-4a2a-825f-758f341d550f",
   "metadata": {},
   "outputs": [],
   "source": [
    "print('The predection of the test sample (for N = 4) on IBM-Q quantum computer (ibm_bogota):')\n",
    "quantum_nn(X_sample, theta, simulator = False)"
   ]
  },
  {
   "cell_type": "code",
   "execution_count": null,
   "id": "85e4da2c-ea1d-4d63-97fd-cbe3bbd97bd3",
   "metadata": {},
   "outputs": [],
   "source": []
  }
 ],
 "metadata": {
  "kernelspec": {
   "display_name": "Qiskit v0.34.1 (ipykernel)",
   "language": "python",
   "name": "python3"
  },
  "language_info": {
   "codemirror_mode": {
    "name": "ipython",
    "version": 3
   },
   "file_extension": ".py",
   "mimetype": "text/x-python",
   "name": "python",
   "nbconvert_exporter": "python",
   "pygments_lexer": "ipython3",
   "version": "3.8.12"
  },
  "widgets": {
   "application/vnd.jupyter.widget-state+json": {
    "state": {},
    "version_major": 2,
    "version_minor": 0
   }
  }
 },
 "nbformat": 4,
 "nbformat_minor": 5
}
